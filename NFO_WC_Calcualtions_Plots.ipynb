{
 "cells": [
  {
   "cell_type": "code",
   "execution_count": 3,
   "metadata": {},
   "outputs": [],
   "source": [
    "############## Initialisation ################\n",
    "\n",
    "options(scipen=999)\n",
    "shhh <- suppressPackageStartupMessages\n",
    "\n",
    "shhh(library(tidyquant))\n",
    "shhh(library(quantmod))\n",
    "shhh(library(tibble))\n",
    "shhh(library(tidyr))\n",
    "shhh(library(reshape2))\n",
    "shhh(library(ggplot2))\n",
    "\n",
    "symbols <- c(\"F\", \"GE\", \"IBM\", \"UN\")"
   ]
  },
  {
   "cell_type": "code",
   "execution_count": 6,
   "metadata": {},
   "outputs": [
    {
     "data": {
      "text/html": [
       "<table>\n",
       "<thead><tr><th></th><th scope=col>UN.f.12.31.2018</th><th scope=col>UN.f.12.31.2017</th><th scope=col>UN.f.12.31.2016</th><th scope=col>UN.f.12.31.2015</th><th scope=col>IBM.f.12.31.2018</th><th scope=col>IBM.f.12.31.2017</th><th scope=col>IBM.f.12.31.2016</th><th scope=col>IBM.f.12.31.2015</th><th scope=col>GE.f.12.31.2018</th><th scope=col>GE.f.12.31.2017</th><th scope=col>GE.f.12.31.2016</th><th scope=col>GE.f.12.31.2015</th><th scope=col>F.f.12.31.2018</th><th scope=col>F.f.12.31.2017</th><th scope=col>F.f.12.31.2016</th><th scope=col>F.f.12.31.2015</th></tr></thead>\n",
       "<tbody>\n",
       "\t<tr><th scope=row>Total Revenue</th><td>50982000 </td><td>53715000 </td><td>52713000 </td><td>53272000 </td><td>79591000 </td><td>79139000 </td><td>79919000 </td><td>81741000 </td><td>121615000</td><td>118243000</td><td>119468000</td><td>115834000</td><td>160338000</td><td>156776000</td><td>151800000</td><td>149558000</td></tr>\n",
       "\t<tr><th scope=row>Cost of Revenue</th><td>28769000 </td><td>30547000 </td><td>30229000 </td><td>30808000 </td><td>42655000 </td><td>42196000 </td><td>41402000 </td><td>41057000 </td><td> 98396000</td><td>106858000</td><td> 94886000</td><td> 90111000</td><td>145459000</td><td>140218000</td><td>134933000</td><td>131410000</td></tr>\n",
       "\t<tr><th scope=row>Gross Profit</th><td>22213000 </td><td>23168000 </td><td>22484000 </td><td>22464000 </td><td>36936000 </td><td>36943000 </td><td>38517000 </td><td>40684000 </td><td> 23219000</td><td> 11385000</td><td> 24582000</td><td> 25723000</td><td> 14879000</td><td> 16558000</td><td> 16867000</td><td> 18148000</td></tr>\n",
       "\t<tr><th scope=row>Research Development</th><td>  900000 </td><td>  900000 </td><td>  978000 </td><td> 1005000 </td><td> 5379000 </td><td> 5590000 </td><td> 5726000 </td><td> 5247000 </td><td>       NA</td><td>       NA</td><td>       NA</td><td>       NA</td><td>       NA</td><td>       NA</td><td>       NA</td><td>       NA</td></tr>\n",
       "\t<tr><th scope=row>Selling General and Administrative</th><td> 8803000 </td><td>13507000 </td><td>13799000 </td><td>14065000 </td><td>20325000 </td><td>20900000 </td><td>20225000 </td><td>19589000 </td><td> 15134000</td><td> 15389000</td><td> 14707000</td><td> 16327000</td><td> 10460000</td><td>  9676000</td><td> 12504000</td><td> 10097000</td></tr>\n",
       "\t<tr><th scope=row>Non Recurring</th><td>      NA </td><td>      NA </td><td>      NA </td><td>      NA </td><td>      NA </td><td>      NA </td><td>      NA </td><td>      NA </td><td>       NA</td><td>       NA</td><td>       NA</td><td>       NA</td><td>       NA</td><td>       NA</td><td>       NA</td><td>       NA</td></tr>\n",
       "</tbody>\n",
       "</table>\n"
      ],
      "text/latex": [
       "\\begin{tabular}{r|llllllllllllllll}\n",
       "  & UN.f.12.31.2018 & UN.f.12.31.2017 & UN.f.12.31.2016 & UN.f.12.31.2015 & IBM.f.12.31.2018 & IBM.f.12.31.2017 & IBM.f.12.31.2016 & IBM.f.12.31.2015 & GE.f.12.31.2018 & GE.f.12.31.2017 & GE.f.12.31.2016 & GE.f.12.31.2015 & F.f.12.31.2018 & F.f.12.31.2017 & F.f.12.31.2016 & F.f.12.31.2015\\\\\n",
       "\\hline\n",
       "\tTotal Revenue & 50982000  & 53715000  & 52713000  & 53272000  & 79591000  & 79139000  & 79919000  & 81741000  & 121615000 & 118243000 & 119468000 & 115834000 & 160338000 & 156776000 & 151800000 & 149558000\\\\\n",
       "\tCost of Revenue & 28769000  & 30547000  & 30229000  & 30808000  & 42655000  & 42196000  & 41402000  & 41057000  &  98396000 & 106858000 &  94886000 &  90111000 & 145459000 & 140218000 & 134933000 & 131410000\\\\\n",
       "\tGross Profit & 22213000  & 23168000  & 22484000  & 22464000  & 36936000  & 36943000  & 38517000  & 40684000  &  23219000 &  11385000 &  24582000 &  25723000 &  14879000 &  16558000 &  16867000 &  18148000\\\\\n",
       "\tResearch Development &   900000  &   900000  &   978000  &  1005000  &  5379000  &  5590000  &  5726000  &  5247000  &        NA &        NA &        NA &        NA &        NA &        NA &        NA &        NA\\\\\n",
       "\tSelling General and Administrative &  8803000  & 13507000  & 13799000  & 14065000  & 20325000  & 20900000  & 20225000  & 19589000  &  15134000 &  15389000 &  14707000 &  16327000 &  10460000 &   9676000 &  12504000 &  10097000\\\\\n",
       "\tNon Recurring &       NA  &       NA  &       NA  &       NA  &       NA  &       NA  &       NA  &       NA  &        NA &        NA &        NA &        NA &        NA &        NA &        NA &        NA\\\\\n",
       "\\end{tabular}\n"
      ],
      "text/markdown": [
       "\n",
       "| <!--/--> | UN.f.12.31.2018 | UN.f.12.31.2017 | UN.f.12.31.2016 | UN.f.12.31.2015 | IBM.f.12.31.2018 | IBM.f.12.31.2017 | IBM.f.12.31.2016 | IBM.f.12.31.2015 | GE.f.12.31.2018 | GE.f.12.31.2017 | GE.f.12.31.2016 | GE.f.12.31.2015 | F.f.12.31.2018 | F.f.12.31.2017 | F.f.12.31.2016 | F.f.12.31.2015 |\n",
       "|---|---|---|---|---|---|---|---|---|---|---|---|---|---|---|---|---|\n",
       "| Total Revenue | 50982000  | 53715000  | 52713000  | 53272000  | 79591000  | 79139000  | 79919000  | 81741000  | 121615000 | 118243000 | 119468000 | 115834000 | 160338000 | 156776000 | 151800000 | 149558000 |\n",
       "| Cost of Revenue | 28769000  | 30547000  | 30229000  | 30808000  | 42655000  | 42196000  | 41402000  | 41057000  |  98396000 | 106858000 |  94886000 |  90111000 | 145459000 | 140218000 | 134933000 | 131410000 |\n",
       "| Gross Profit | 22213000  | 23168000  | 22484000  | 22464000  | 36936000  | 36943000  | 38517000  | 40684000  |  23219000 |  11385000 |  24582000 |  25723000 |  14879000 |  16558000 |  16867000 |  18148000 |\n",
       "| Research Development |   900000  |   900000  |   978000  |  1005000  |  5379000  |  5590000  |  5726000  |  5247000  |        NA |        NA |        NA |        NA |        NA |        NA |        NA |        NA |\n",
       "| Selling General and Administrative |  8803000  | 13507000  | 13799000  | 14065000  | 20325000  | 20900000  | 20225000  | 19589000  |  15134000 |  15389000 |  14707000 |  16327000 |  10460000 |   9676000 |  12504000 |  10097000 |\n",
       "| Non Recurring |       NA  |       NA  |       NA  |       NA  |       NA  |       NA  |       NA  |       NA  |        NA |        NA |        NA |        NA |        NA |        NA |        NA |        NA |\n",
       "\n"
      ],
      "text/plain": [
       "                                   UN.f.12.31.2018 UN.f.12.31.2017\n",
       "Total Revenue                      50982000        53715000       \n",
       "Cost of Revenue                    28769000        30547000       \n",
       "Gross Profit                       22213000        23168000       \n",
       "Research Development                 900000          900000       \n",
       "Selling General and Administrative  8803000        13507000       \n",
       "Non Recurring                            NA              NA       \n",
       "                                   UN.f.12.31.2016 UN.f.12.31.2015\n",
       "Total Revenue                      52713000        53272000       \n",
       "Cost of Revenue                    30229000        30808000       \n",
       "Gross Profit                       22484000        22464000       \n",
       "Research Development                 978000         1005000       \n",
       "Selling General and Administrative 13799000        14065000       \n",
       "Non Recurring                            NA              NA       \n",
       "                                   IBM.f.12.31.2018 IBM.f.12.31.2017\n",
       "Total Revenue                      79591000         79139000        \n",
       "Cost of Revenue                    42655000         42196000        \n",
       "Gross Profit                       36936000         36943000        \n",
       "Research Development                5379000          5590000        \n",
       "Selling General and Administrative 20325000         20900000        \n",
       "Non Recurring                            NA               NA        \n",
       "                                   IBM.f.12.31.2016 IBM.f.12.31.2015\n",
       "Total Revenue                      79919000         81741000        \n",
       "Cost of Revenue                    41402000         41057000        \n",
       "Gross Profit                       38517000         40684000        \n",
       "Research Development                5726000          5247000        \n",
       "Selling General and Administrative 20225000         19589000        \n",
       "Non Recurring                            NA               NA        \n",
       "                                   GE.f.12.31.2018 GE.f.12.31.2017\n",
       "Total Revenue                      121615000       118243000      \n",
       "Cost of Revenue                     98396000       106858000      \n",
       "Gross Profit                        23219000        11385000      \n",
       "Research Development                      NA              NA      \n",
       "Selling General and Administrative  15134000        15389000      \n",
       "Non Recurring                             NA              NA      \n",
       "                                   GE.f.12.31.2016 GE.f.12.31.2015\n",
       "Total Revenue                      119468000       115834000      \n",
       "Cost of Revenue                     94886000        90111000      \n",
       "Gross Profit                        24582000        25723000      \n",
       "Research Development                      NA              NA      \n",
       "Selling General and Administrative  14707000        16327000      \n",
       "Non Recurring                             NA              NA      \n",
       "                                   F.f.12.31.2018 F.f.12.31.2017 F.f.12.31.2016\n",
       "Total Revenue                      160338000      156776000      151800000     \n",
       "Cost of Revenue                    145459000      140218000      134933000     \n",
       "Gross Profit                        14879000       16558000       16867000     \n",
       "Research Development                      NA             NA             NA     \n",
       "Selling General and Administrative  10460000        9676000       12504000     \n",
       "Non Recurring                             NA             NA             NA     \n",
       "                                   F.f.12.31.2015\n",
       "Total Revenue                      149558000     \n",
       "Cost of Revenue                    131410000     \n",
       "Gross Profit                        18148000     \n",
       "Research Development                      NA     \n",
       "Selling General and Administrative  10097000     \n",
       "Non Recurring                             NA     "
      ]
     },
     "metadata": {},
     "output_type": "display_data"
    },
    {
     "data": {
      "text/html": [
       "<table>\n",
       "<thead><tr><th></th><th scope=col>UN.f.12.31.2018</th><th scope=col>UN.f.12.31.2017</th><th scope=col>UN.f.12.31.2016</th><th scope=col>UN.f.12.31.2015</th><th scope=col>IBM.f.12.31.2018</th><th scope=col>IBM.f.12.31.2017</th><th scope=col>IBM.f.12.31.2016</th><th scope=col>IBM.f.12.31.2015</th><th scope=col>GE.f.12.31.2018</th><th scope=col>GE.f.12.31.2017</th><th scope=col>GE.f.12.31.2016</th><th scope=col>GE.f.12.31.2015</th><th scope=col>F.f.12.31.2018</th><th scope=col>F.f.12.31.2017</th><th scope=col>F.f.12.31.2016</th><th scope=col>F.f.12.31.2015</th></tr></thead>\n",
       "<tbody>\n",
       "\t<tr><th scope=row>Cash And Cash Equivalents</th><td> 3230000 </td><td> 3317000 </td><td> 3382000 </td><td> 2302000 </td><td>11379000 </td><td>11972000 </td><td> 7826000 </td><td> 7686000 </td><td>16369000 </td><td> 18211000</td><td> 10525000</td><td> 10372000</td><td>  7111000</td><td>  8934000</td><td>  7828000</td><td>  5386000</td></tr>\n",
       "\t<tr><th scope=row>Short Term Investments</th><td>  681000 </td><td>  521000 </td><td>  565000 </td><td>  596000 </td><td>  618000 </td><td>  608000 </td><td>  701000 </td><td>  508000 </td><td>      NA </td><td>       NA</td><td>       NA</td><td>       NA</td><td> 15925000</td><td> 17554000</td><td> 19642000</td><td> 18181000</td></tr>\n",
       "\t<tr><th scope=row>Net Receivables</th><td> 4822000 </td><td> 4204000 </td><td> 3854000 </td><td> 3416000 </td><td> 8596000 </td><td>10380000 </td><td>10239000 </td><td> 9534000 </td><td>19874000 </td><td> 24209000</td><td> 24076000</td><td> 43013000</td><td>  3698000</td><td> 10599000</td><td> 11102000</td><td> 11042000</td></tr>\n",
       "\t<tr><th scope=row>Inventory</th><td> 4301000 </td><td> 3962000 </td><td> 4278000 </td><td> 4335000 </td><td> 1682000 </td><td> 1583000 </td><td> 1553000 </td><td> 1551000 </td><td>19271000 </td><td> 19419000</td><td> 22354000</td><td> 22515000</td><td> 11220000</td><td> 11176000</td><td>  8898000</td><td>  8319000</td></tr>\n",
       "\t<tr><th scope=row>Other Current Assets</th><td> 1387000 </td><td> 4356000 </td><td> 1120000 </td><td> 1352000 </td><td> 2902000 </td><td> 2266000 </td><td>  532000 </td><td>  293000 </td><td> 7441000 </td><td>  6720000</td><td>  3885000</td><td>  5109000</td><td>  2567000</td><td>  3649000</td><td>  3145000</td><td>  2704000</td></tr>\n",
       "\t<tr><th scope=row>Total Current Assets</th><td>15481000 </td><td>16983000 </td><td>13884000 </td><td>12686000 </td><td>49146000 </td><td>49735000 </td><td>43889000 </td><td>42504000 </td><td>95974000 </td><td>116253000</td><td>131436000</td><td>280896000</td><td>114649000</td><td>116801000</td><td>108461000</td><td>102587000</td></tr>\n",
       "</tbody>\n",
       "</table>\n"
      ],
      "text/latex": [
       "\\begin{tabular}{r|llllllllllllllll}\n",
       "  & UN.f.12.31.2018 & UN.f.12.31.2017 & UN.f.12.31.2016 & UN.f.12.31.2015 & IBM.f.12.31.2018 & IBM.f.12.31.2017 & IBM.f.12.31.2016 & IBM.f.12.31.2015 & GE.f.12.31.2018 & GE.f.12.31.2017 & GE.f.12.31.2016 & GE.f.12.31.2015 & F.f.12.31.2018 & F.f.12.31.2017 & F.f.12.31.2016 & F.f.12.31.2015\\\\\n",
       "\\hline\n",
       "\tCash And Cash Equivalents &  3230000  &  3317000  &  3382000  &  2302000  & 11379000  & 11972000  &  7826000  &  7686000  & 16369000  &  18211000 &  10525000 &  10372000 &   7111000 &   8934000 &   7828000 &   5386000\\\\\n",
       "\tShort Term Investments &   681000  &   521000  &   565000  &   596000  &   618000  &   608000  &   701000  &   508000  &       NA  &        NA &        NA &        NA &  15925000 &  17554000 &  19642000 &  18181000\\\\\n",
       "\tNet Receivables &  4822000  &  4204000  &  3854000  &  3416000  &  8596000  & 10380000  & 10239000  &  9534000  & 19874000  &  24209000 &  24076000 &  43013000 &   3698000 &  10599000 &  11102000 &  11042000\\\\\n",
       "\tInventory &  4301000  &  3962000  &  4278000  &  4335000  &  1682000  &  1583000  &  1553000  &  1551000  & 19271000  &  19419000 &  22354000 &  22515000 &  11220000 &  11176000 &   8898000 &   8319000\\\\\n",
       "\tOther Current Assets &  1387000  &  4356000  &  1120000  &  1352000  &  2902000  &  2266000  &   532000  &   293000  &  7441000  &   6720000 &   3885000 &   5109000 &   2567000 &   3649000 &   3145000 &   2704000\\\\\n",
       "\tTotal Current Assets & 15481000  & 16983000  & 13884000  & 12686000  & 49146000  & 49735000  & 43889000  & 42504000  & 95974000  & 116253000 & 131436000 & 280896000 & 114649000 & 116801000 & 108461000 & 102587000\\\\\n",
       "\\end{tabular}\n"
      ],
      "text/markdown": [
       "\n",
       "| <!--/--> | UN.f.12.31.2018 | UN.f.12.31.2017 | UN.f.12.31.2016 | UN.f.12.31.2015 | IBM.f.12.31.2018 | IBM.f.12.31.2017 | IBM.f.12.31.2016 | IBM.f.12.31.2015 | GE.f.12.31.2018 | GE.f.12.31.2017 | GE.f.12.31.2016 | GE.f.12.31.2015 | F.f.12.31.2018 | F.f.12.31.2017 | F.f.12.31.2016 | F.f.12.31.2015 |\n",
       "|---|---|---|---|---|---|---|---|---|---|---|---|---|---|---|---|---|\n",
       "| Cash And Cash Equivalents |  3230000  |  3317000  |  3382000  |  2302000  | 11379000  | 11972000  |  7826000  |  7686000  | 16369000  |  18211000 |  10525000 |  10372000 |   7111000 |   8934000 |   7828000 |   5386000 |\n",
       "| Short Term Investments |   681000  |   521000  |   565000  |   596000  |   618000  |   608000  |   701000  |   508000  |       NA  |        NA |        NA |        NA |  15925000 |  17554000 |  19642000 |  18181000 |\n",
       "| Net Receivables |  4822000  |  4204000  |  3854000  |  3416000  |  8596000  | 10380000  | 10239000  |  9534000  | 19874000  |  24209000 |  24076000 |  43013000 |   3698000 |  10599000 |  11102000 |  11042000 |\n",
       "| Inventory |  4301000  |  3962000  |  4278000  |  4335000  |  1682000  |  1583000  |  1553000  |  1551000  | 19271000  |  19419000 |  22354000 |  22515000 |  11220000 |  11176000 |   8898000 |   8319000 |\n",
       "| Other Current Assets |  1387000  |  4356000  |  1120000  |  1352000  |  2902000  |  2266000  |   532000  |   293000  |  7441000  |   6720000 |   3885000 |   5109000 |   2567000 |   3649000 |   3145000 |   2704000 |\n",
       "| Total Current Assets | 15481000  | 16983000  | 13884000  | 12686000  | 49146000  | 49735000  | 43889000  | 42504000  | 95974000  | 116253000 | 131436000 | 280896000 | 114649000 | 116801000 | 108461000 | 102587000 |\n",
       "\n"
      ],
      "text/plain": [
       "                          UN.f.12.31.2018 UN.f.12.31.2017 UN.f.12.31.2016\n",
       "Cash And Cash Equivalents  3230000         3317000         3382000       \n",
       "Short Term Investments      681000          521000          565000       \n",
       "Net Receivables            4822000         4204000         3854000       \n",
       "Inventory                  4301000         3962000         4278000       \n",
       "Other Current Assets       1387000         4356000         1120000       \n",
       "Total Current Assets      15481000        16983000        13884000       \n",
       "                          UN.f.12.31.2015 IBM.f.12.31.2018 IBM.f.12.31.2017\n",
       "Cash And Cash Equivalents  2302000        11379000         11972000        \n",
       "Short Term Investments      596000          618000           608000        \n",
       "Net Receivables            3416000         8596000         10380000        \n",
       "Inventory                  4335000         1682000          1583000        \n",
       "Other Current Assets       1352000         2902000          2266000        \n",
       "Total Current Assets      12686000        49146000         49735000        \n",
       "                          IBM.f.12.31.2016 IBM.f.12.31.2015 GE.f.12.31.2018\n",
       "Cash And Cash Equivalents  7826000          7686000         16369000       \n",
       "Short Term Investments      701000           508000               NA       \n",
       "Net Receivables           10239000          9534000         19874000       \n",
       "Inventory                  1553000          1551000         19271000       \n",
       "Other Current Assets        532000           293000          7441000       \n",
       "Total Current Assets      43889000         42504000         95974000       \n",
       "                          GE.f.12.31.2017 GE.f.12.31.2016 GE.f.12.31.2015\n",
       "Cash And Cash Equivalents  18211000        10525000        10372000      \n",
       "Short Term Investments           NA              NA              NA      \n",
       "Net Receivables            24209000        24076000        43013000      \n",
       "Inventory                  19419000        22354000        22515000      \n",
       "Other Current Assets        6720000         3885000         5109000      \n",
       "Total Current Assets      116253000       131436000       280896000      \n",
       "                          F.f.12.31.2018 F.f.12.31.2017 F.f.12.31.2016\n",
       "Cash And Cash Equivalents   7111000        8934000        7828000     \n",
       "Short Term Investments     15925000       17554000       19642000     \n",
       "Net Receivables             3698000       10599000       11102000     \n",
       "Inventory                  11220000       11176000        8898000     \n",
       "Other Current Assets        2567000        3649000        3145000     \n",
       "Total Current Assets      114649000      116801000      108461000     \n",
       "                          F.f.12.31.2015\n",
       "Cash And Cash Equivalents   5386000     \n",
       "Short Term Investments     18181000     \n",
       "Net Receivables            11042000     \n",
       "Inventory                   8319000     \n",
       "Other Current Assets        2704000     \n",
       "Total Current Assets      102587000     "
      ]
     },
     "metadata": {},
     "output_type": "display_data"
    },
    {
     "data": {
      "text/html": [
       "<table>\n",
       "<thead><tr><th></th><th scope=col>UN.f.12.31.2018</th><th scope=col>UN.f.12.31.2017</th><th scope=col>UN.f.12.31.2016</th><th scope=col>UN.f.12.31.2015</th><th scope=col>IBM.f.12.31.2018</th><th scope=col>IBM.f.12.31.2017</th><th scope=col>IBM.f.12.31.2016</th><th scope=col>IBM.f.12.31.2015</th><th scope=col>GE.f.12.31.2018</th><th scope=col>GE.f.12.31.2017</th><th scope=col>GE.f.12.31.2016</th><th scope=col>GE.f.12.31.2015</th><th scope=col>F.f.12.31.2018</th><th scope=col>F.f.12.31.2017</th><th scope=col>F.f.12.31.2016</th><th scope=col>F.f.12.31.2015</th></tr></thead>\n",
       "<tbody>\n",
       "\t<tr><th scope=row>Net Income</th><td> 9389000 </td><td>6053000  </td><td>5184000  </td><td>4909000  </td><td>8728000  </td><td>5753000  </td><td>11872000 </td><td>13190000 </td><td>-22355000</td><td>-8484000 </td><td>  7500000</td><td>-6126000 </td><td> 3677000 </td><td> 7731000 </td><td> 4589000 </td><td> 7373000 </td></tr>\n",
       "\t<tr><th scope=row>Depreciation</th><td> 1450000 </td><td>1214000  </td><td>1464000  </td><td>1370000  </td><td>4480000  </td><td>4541000  </td><td> 4381000 </td><td> 3855000 </td><td>  7796000</td><td> 7429000 </td><td>  7070000</td><td> 6509000 </td><td> 8308000 </td><td> 8453000 </td><td> 8717000 </td><td> 7966000 </td></tr>\n",
       "\t<tr><th scope=row>Adjustments To Net Income</th><td>-3590000 </td><td>-231000  </td><td> 348000  </td><td> 331000  </td><td>1485000  </td><td>-383000  </td><td> -526000 </td><td> 2406000 </td><td> 18532000</td><td> 9305000 </td><td>-14391000</td><td>21411000 </td><td> -677000 </td><td> -910000 </td><td> 3607000 </td><td>-2153000 </td></tr>\n",
       "\t<tr><th scope=row>Changes In Accounts Receivables</th><td>-1298000 </td><td>-506000  </td><td> 142000  </td><td>   2000  </td><td>1006000  </td><td>1297000  </td><td>  712000 </td><td>  812000 </td><td>  -430000</td><td>-2846000 </td><td>  1460000</td><td>  -52000 </td><td>-2239000 </td><td>-2297000 </td><td>-2855000 </td><td>-3563000 </td></tr>\n",
       "\t<tr><th scope=row>Changes In Liabilities</th><td>  976000 </td><td> 542000  </td><td>-281000  </td><td> 847000  </td><td> 126000  </td><td>  47000  </td><td>  197000 </td><td>   81000 </td><td>  1697000</td><td> 1343000 </td><td>  2953000</td><td>-1537000 </td><td> 6781000 </td><td> 6089000 </td><td> 6595000 </td><td> 7758000 </td></tr>\n",
       "\t<tr><th scope=row>Changes In Inventories</th><td> -471000 </td><td>-104000  </td><td> 190000  </td><td>-129000  </td><td>-127000  </td><td>  18000  </td><td>  -14000 </td><td>  133000 </td><td>  -902000</td><td> 1183000 </td><td>  -815000</td><td> -314000 </td><td> -828000 </td><td> -970000 </td><td> -803000 </td><td>-1155000 </td></tr>\n",
       "</tbody>\n",
       "</table>\n"
      ],
      "text/latex": [
       "\\begin{tabular}{r|llllllllllllllll}\n",
       "  & UN.f.12.31.2018 & UN.f.12.31.2017 & UN.f.12.31.2016 & UN.f.12.31.2015 & IBM.f.12.31.2018 & IBM.f.12.31.2017 & IBM.f.12.31.2016 & IBM.f.12.31.2015 & GE.f.12.31.2018 & GE.f.12.31.2017 & GE.f.12.31.2016 & GE.f.12.31.2015 & F.f.12.31.2018 & F.f.12.31.2017 & F.f.12.31.2016 & F.f.12.31.2015\\\\\n",
       "\\hline\n",
       "\tNet Income &  9389000  & 6053000   & 5184000   & 4909000   & 8728000   & 5753000   & 11872000  & 13190000  & -22355000 & -8484000  &   7500000 & -6126000  &  3677000  &  7731000  &  4589000  &  7373000 \\\\\n",
       "\tDepreciation &  1450000  & 1214000   & 1464000   & 1370000   & 4480000   & 4541000   &  4381000  &  3855000  &   7796000 &  7429000  &   7070000 &  6509000  &  8308000  &  8453000  &  8717000  &  7966000 \\\\\n",
       "\tAdjustments To Net Income & -3590000  & -231000   &  348000   &  331000   & 1485000   & -383000   &  -526000  &  2406000  &  18532000 &  9305000  & -14391000 & 21411000  &  -677000  &  -910000  &  3607000  & -2153000 \\\\\n",
       "\tChanges In Accounts Receivables & -1298000  & -506000   &  142000   &    2000   & 1006000   & 1297000   &   712000  &   812000  &   -430000 & -2846000  &   1460000 &   -52000  & -2239000  & -2297000  & -2855000  & -3563000 \\\\\n",
       "\tChanges In Liabilities &   976000  &  542000   & -281000   &  847000   &  126000   &   47000   &   197000  &    81000  &   1697000 &  1343000  &   2953000 & -1537000  &  6781000  &  6089000  &  6595000  &  7758000 \\\\\n",
       "\tChanges In Inventories &  -471000  & -104000   &  190000   & -129000   & -127000   &   18000   &   -14000  &   133000  &   -902000 &  1183000  &   -815000 &  -314000  &  -828000  &  -970000  &  -803000  & -1155000 \\\\\n",
       "\\end{tabular}\n"
      ],
      "text/markdown": [
       "\n",
       "| <!--/--> | UN.f.12.31.2018 | UN.f.12.31.2017 | UN.f.12.31.2016 | UN.f.12.31.2015 | IBM.f.12.31.2018 | IBM.f.12.31.2017 | IBM.f.12.31.2016 | IBM.f.12.31.2015 | GE.f.12.31.2018 | GE.f.12.31.2017 | GE.f.12.31.2016 | GE.f.12.31.2015 | F.f.12.31.2018 | F.f.12.31.2017 | F.f.12.31.2016 | F.f.12.31.2015 |\n",
       "|---|---|---|---|---|---|---|---|---|---|---|---|---|---|---|---|---|\n",
       "| Net Income |  9389000  | 6053000   | 5184000   | 4909000   | 8728000   | 5753000   | 11872000  | 13190000  | -22355000 | -8484000  |   7500000 | -6126000  |  3677000  |  7731000  |  4589000  |  7373000  |\n",
       "| Depreciation |  1450000  | 1214000   | 1464000   | 1370000   | 4480000   | 4541000   |  4381000  |  3855000  |   7796000 |  7429000  |   7070000 |  6509000  |  8308000  |  8453000  |  8717000  |  7966000  |\n",
       "| Adjustments To Net Income | -3590000  | -231000   |  348000   |  331000   | 1485000   | -383000   |  -526000  |  2406000  |  18532000 |  9305000  | -14391000 | 21411000  |  -677000  |  -910000  |  3607000  | -2153000  |\n",
       "| Changes In Accounts Receivables | -1298000  | -506000   |  142000   |    2000   | 1006000   | 1297000   |   712000  |   812000  |   -430000 | -2846000  |   1460000 |   -52000  | -2239000  | -2297000  | -2855000  | -3563000  |\n",
       "| Changes In Liabilities |   976000  |  542000   | -281000   |  847000   |  126000   |   47000   |   197000  |    81000  |   1697000 |  1343000  |   2953000 | -1537000  |  6781000  |  6089000  |  6595000  |  7758000  |\n",
       "| Changes In Inventories |  -471000  | -104000   |  190000   | -129000   | -127000   |   18000   |   -14000  |   133000  |   -902000 |  1183000  |   -815000 |  -314000  |  -828000  |  -970000  |  -803000  | -1155000  |\n",
       "\n"
      ],
      "text/plain": [
       "                                UN.f.12.31.2018 UN.f.12.31.2017 UN.f.12.31.2016\n",
       "Net Income                       9389000        6053000         5184000        \n",
       "Depreciation                     1450000        1214000         1464000        \n",
       "Adjustments To Net Income       -3590000        -231000          348000        \n",
       "Changes In Accounts Receivables -1298000        -506000          142000        \n",
       "Changes In Liabilities            976000         542000         -281000        \n",
       "Changes In Inventories           -471000        -104000          190000        \n",
       "                                UN.f.12.31.2015 IBM.f.12.31.2018\n",
       "Net Income                      4909000         8728000         \n",
       "Depreciation                    1370000         4480000         \n",
       "Adjustments To Net Income        331000         1485000         \n",
       "Changes In Accounts Receivables    2000         1006000         \n",
       "Changes In Liabilities           847000          126000         \n",
       "Changes In Inventories          -129000         -127000         \n",
       "                                IBM.f.12.31.2017 IBM.f.12.31.2016\n",
       "Net Income                      5753000          11872000        \n",
       "Depreciation                    4541000           4381000        \n",
       "Adjustments To Net Income       -383000           -526000        \n",
       "Changes In Accounts Receivables 1297000            712000        \n",
       "Changes In Liabilities            47000            197000        \n",
       "Changes In Inventories            18000            -14000        \n",
       "                                IBM.f.12.31.2015 GE.f.12.31.2018\n",
       "Net Income                      13190000         -22355000      \n",
       "Depreciation                     3855000           7796000      \n",
       "Adjustments To Net Income        2406000          18532000      \n",
       "Changes In Accounts Receivables   812000           -430000      \n",
       "Changes In Liabilities             81000           1697000      \n",
       "Changes In Inventories            133000           -902000      \n",
       "                                GE.f.12.31.2017 GE.f.12.31.2016 GE.f.12.31.2015\n",
       "Net Income                      -8484000          7500000       -6126000       \n",
       "Depreciation                     7429000          7070000        6509000       \n",
       "Adjustments To Net Income        9305000        -14391000       21411000       \n",
       "Changes In Accounts Receivables -2846000          1460000         -52000       \n",
       "Changes In Liabilities           1343000          2953000       -1537000       \n",
       "Changes In Inventories           1183000          -815000        -314000       \n",
       "                                F.f.12.31.2018 F.f.12.31.2017 F.f.12.31.2016\n",
       "Net Income                       3677000        7731000        4589000      \n",
       "Depreciation                     8308000        8453000        8717000      \n",
       "Adjustments To Net Income        -677000        -910000        3607000      \n",
       "Changes In Accounts Receivables -2239000       -2297000       -2855000      \n",
       "Changes In Liabilities           6781000        6089000        6595000      \n",
       "Changes In Inventories           -828000        -970000        -803000      \n",
       "                                F.f.12.31.2015\n",
       "Net Income                       7373000      \n",
       "Depreciation                     7966000      \n",
       "Adjustments To Net Income       -2153000      \n",
       "Changes In Accounts Receivables -3563000      \n",
       "Changes In Liabilities           7758000      \n",
       "Changes In Inventories          -1155000      "
      ]
     },
     "metadata": {},
     "output_type": "display_data"
    }
   ],
   "source": [
    "getFin <- function(stock){\n",
    "  for (i in 1:length(stock)) {\n",
    "    tryCatch(\n",
    "      {\n",
    "        # Collect the Income Statement data\n",
    "        link <- \"https://finance.yahoo.com/quote/\"\n",
    "        link <- paste0(link, stock[i], \"/financials?p=\", stock[i])\n",
    "        wahis.session <- html_session(link)\n",
    "        p <- wahis.session %>%\n",
    "          html_nodes(xpath = '//*[@id=\"Col1-1-Financials-Proxy\"]/section/div[3]/table')%>%\n",
    "          html_table(fill = TRUE)\n",
    "        IncomeStatement <- p[[1]]\n",
    "        colnames(IncomeStatement) <- paste(IncomeStatement[1,])\n",
    "        IncomeStatement <- IncomeStatement[-c(1,5,12,20,25),]\n",
    "        names_row <- paste(IncomeStatement[,1])\n",
    "        IncomeStatement <- IncomeStatement[,-1]\n",
    "        IncomeStatement <- apply(IncomeStatement, 2, function(x){gsub(\",\",\"\",x)})\n",
    "        IncomeStatement <- as.data.frame(apply(IncomeStatement, 2, as.numeric))\n",
    "        rownames(IncomeStatement) <- paste(names_row)\n",
    "        temp1 <- IncomeStatement\n",
    "        \n",
    "        # Collect the Balance Sheet data\n",
    "        link <- \"https://finance.yahoo.com/quote/\"\n",
    "        link <- paste0(link, stock[i],\"/balance-sheet?p=\", stock[i])\n",
    "        wahis.session <- html_session(link)\n",
    "        p <- wahis.session %>%\n",
    "          html_nodes(xpath = '//*[@id=\"Col1-1-Financials-Proxy\"]/section/div[3]/table')%>%\n",
    "          html_table(fill = TRUE)\n",
    "        BalanceSheet <- p[[1]]\n",
    "        colnames(BalanceSheet) <- BalanceSheet[1,]\n",
    "        BalanceSheet <- BalanceSheet[-c(1,2,17,28),]\n",
    "        names_row <- BalanceSheet[,1]\n",
    "        BalanceSheet <- BalanceSheet[,-1]\n",
    "        BalanceSheet <- apply(BalanceSheet, 2, function(x){gsub(\",\",\"\",x)})\n",
    "        BalanceSheet <- as.data.frame(apply(BalanceSheet, 2, as.numeric))\n",
    "        rownames(BalanceSheet) <- paste(names_row)\n",
    "        temp2 <- BalanceSheet\n",
    "        \n",
    "        # Collect the Cash Flow data\n",
    "        link <- \"https://finance.yahoo.com/quote/\"\n",
    "        link <- paste0(link, stock[i], \"/cash-flow?p=\", stock[i])\n",
    "        wahis.session <- html_session(link)\n",
    "        p <- wahis.session %>%\n",
    "          html_nodes(xpath = '//*[@id=\"Col1-1-Financials-Proxy\"]/section/div[3]/table')%>%\n",
    "          html_table(fill = TRUE)\n",
    "        CashFlow <- p[[1]]\n",
    "        colnames(CashFlow) <- CashFlow[1,]\n",
    "        CashFlow <- CashFlow[-c(1,3,11,16),]\n",
    "        names_row <- CashFlow[,1]\n",
    "        CashFlow <- CashFlow[,-1]\n",
    "        CashFlow <- apply(CashFlow, 2, function(x){gsub(\",\",\"\",x)})\n",
    "        CashFlow <- as.data.frame(apply(CashFlow, 2, as.numeric))\n",
    "        rownames(CashFlow) <- paste(names_row)\n",
    "        temp3 <- CashFlow\n",
    "        \n",
    "        assign(paste0(stock[i],'.f'),value = list(IncomeStatement = temp1, BalanceSheet = temp2, CashFlow = temp3), envir = parent.frame())\n",
    "        },\n",
    "      error = function(cond){\n",
    "        message(stock[i], \"Give error \",cond)\n",
    "        }\n",
    "      )\n",
    "  }\n",
    "}\n",
    "\n",
    "symbols.f <- sapply(symbols, function(x) { paste0(x, \".f\") })\n",
    "\n",
    "tickers <- list2env(mget(symbols.f))\n",
    "\n",
    "IS <- lapply(tickers, \"[[\", \"IncomeStatement\")\n",
    "BS <- lapply(tickers, \"[[\", \"BalanceSheet\")\n",
    "CF <- lapply(tickers, \"[[\", \"CashFlow\")\n",
    "\n",
    "IS <- as.data.frame(IS)\n",
    "BS <- as.data.frame(BS)\n",
    "CF <- as.data.frame(CF)\n",
    "\n",
    "head(IS)\n",
    "head(BS)\n",
    "head(CF)"
   ]
  },
  {
   "cell_type": "code",
   "execution_count": 7,
   "metadata": {},
   "outputs": [
    {
     "data": {
      "text/html": [
       "<table>\n",
       "<thead><tr><th scope=col>symbol</th><th scope=col>year</th><th scope=col>Total.Revenue</th><th scope=col>Cost.of.Revenue</th><th scope=col>Gross.Profit</th><th scope=col>Research.Development</th><th scope=col>Selling.General.and.Administrative</th><th scope=col>Non.Recurring</th><th scope=col>Others</th><th scope=col>Total.Operating.Expenses</th><th scope=col>...</th><th scope=col>Investments</th><th scope=col>Other.Cash.flows.from.Investing.Activities</th><th scope=col>Total.Cash.Flows.From.Investing.Activities</th><th scope=col>Dividends.Paid</th><th scope=col>Sale.Purchase.of.Stock</th><th scope=col>Net.Borrowings</th><th scope=col>Other.Cash.Flows.from.Financing.Activities</th><th scope=col>Total.Cash.Flows.From.Financing.Activities</th><th scope=col>Effect.Of.Exchange.Rate.Changes</th><th scope=col>Change.In.Cash.and.Cash.Equivalents</th></tr></thead>\n",
       "<tbody>\n",
       "\t<tr><td>UN       </td><td>2018     </td><td>50982000 </td><td>28769000 </td><td>22213000 </td><td> 900000  </td><td> 8803000 </td><td>NA       </td><td>41427000 </td><td>38472000 </td><td>...      </td><td>   47000 </td><td>264000   </td><td> 4644000 </td><td>-4066000 </td><td>NA       </td><td> -35000  </td><td>-1170000 </td><td>-11548000</td><td>  72000  </td><td> -79000  </td></tr>\n",
       "\t<tr><td>UN       </td><td>2017     </td><td>53715000 </td><td>30547000 </td><td>23168000 </td><td> 900000  </td><td>13507000 </td><td>NA       </td><td>44031000 </td><td>44954000 </td><td>...      </td><td> -215000 </td><td>292000   </td><td>-5879000 </td><td>-3916000 </td><td>NA       </td><td>8928000  </td><td>-1227000 </td><td> -1433000</td><td>  -9000  </td><td> -29000  </td></tr>\n",
       "\t<tr><td>UN       </td><td>2016     </td><td>52713000 </td><td>30229000 </td><td>22484000 </td><td> 978000  </td><td>13799000 </td><td>NA       </td><td>44031000 </td><td>45006000 </td><td>...      </td><td>  100000 </td><td>291000   </td><td>-3188000 </td><td>-3609000 </td><td>NA       </td><td>1771000  </td><td> -978000 </td><td> -3073000</td><td> 284000  </td><td>1070000  </td></tr>\n",
       "\t<tr><td>UN       </td><td>2015     </td><td>53272000 </td><td>30808000 </td><td>22464000 </td><td>1005000  </td><td>14065000 </td><td>NA       </td><td>44031000 </td><td>45878000 </td><td>...      </td><td>  -62000 </td><td>295000   </td><td>-3539000 </td><td>-3331000 </td><td>NA       </td><td>1527000  </td><td> -952000 </td><td> -3032000</td><td>-541000  </td><td> 218000  </td></tr>\n",
       "\t<tr><td>IBM      </td><td>2018     </td><td>79591000 </td><td>42655000 </td><td>36936000 </td><td>5379000  </td><td>20325000 </td><td>NA       </td><td> -998000 </td><td>67361000 </td><td>...      </td><td> -554000 </td><td> -1000   </td><td>-4913000 </td><td>-5666000 </td><td>NA       </td><td>-301000  </td><td>  112000 </td><td>-10469000</td><td>-495000  </td><td>-630000  </td></tr>\n",
       "\t<tr><td>IBM      </td><td>2017     </td><td>79139000 </td><td>42196000 </td><td>36943000 </td><td>5590000  </td><td>20900000 </td><td>NA       </td><td>-1445000 </td><td>67241000 </td><td>...      </td><td>-1039000 </td><td> -1000   </td><td>-7081000 </td><td>-5506000 </td><td>NA       </td><td>3447000  </td><td>  174000 </td><td> -6418000</td><td> 937000  </td><td>4161000  </td></tr>\n",
       "</tbody>\n",
       "</table>\n"
      ],
      "text/latex": [
       "\\begin{tabular}{r|llllllllllllllllllllllllllllllllllllllllllllllllllllllllllllllllllllllllllllll}\n",
       " symbol & year & Total.Revenue & Cost.of.Revenue & Gross.Profit & Research.Development & Selling.General.and.Administrative & Non.Recurring & Others & Total.Operating.Expenses & ... & Investments & Other.Cash.flows.from.Investing.Activities & Total.Cash.Flows.From.Investing.Activities & Dividends.Paid & Sale.Purchase.of.Stock & Net.Borrowings & Other.Cash.Flows.from.Financing.Activities & Total.Cash.Flows.From.Financing.Activities & Effect.Of.Exchange.Rate.Changes & Change.In.Cash.and.Cash.Equivalents\\\\\n",
       "\\hline\n",
       "\t UN        & 2018      & 50982000  & 28769000  & 22213000  &  900000   &  8803000  & NA        & 41427000  & 38472000  & ...       &    47000  & 264000    &  4644000  & -4066000  & NA        &  -35000   & -1170000  & -11548000 &   72000   &  -79000  \\\\\n",
       "\t UN        & 2017      & 53715000  & 30547000  & 23168000  &  900000   & 13507000  & NA        & 44031000  & 44954000  & ...       &  -215000  & 292000    & -5879000  & -3916000  & NA        & 8928000   & -1227000  &  -1433000 &   -9000   &  -29000  \\\\\n",
       "\t UN        & 2016      & 52713000  & 30229000  & 22484000  &  978000   & 13799000  & NA        & 44031000  & 45006000  & ...       &   100000  & 291000    & -3188000  & -3609000  & NA        & 1771000   &  -978000  &  -3073000 &  284000   & 1070000  \\\\\n",
       "\t UN        & 2015      & 53272000  & 30808000  & 22464000  & 1005000   & 14065000  & NA        & 44031000  & 45878000  & ...       &   -62000  & 295000    & -3539000  & -3331000  & NA        & 1527000   &  -952000  &  -3032000 & -541000   &  218000  \\\\\n",
       "\t IBM       & 2018      & 79591000  & 42655000  & 36936000  & 5379000   & 20325000  & NA        &  -998000  & 67361000  & ...       &  -554000  &  -1000    & -4913000  & -5666000  & NA        & -301000   &   112000  & -10469000 & -495000   & -630000  \\\\\n",
       "\t IBM       & 2017      & 79139000  & 42196000  & 36943000  & 5590000   & 20900000  & NA        & -1445000  & 67241000  & ...       & -1039000  &  -1000    & -7081000  & -5506000  & NA        & 3447000   &   174000  &  -6418000 &  937000   & 4161000  \\\\\n",
       "\\end{tabular}\n"
      ],
      "text/markdown": [
       "\n",
       "| symbol | year | Total.Revenue | Cost.of.Revenue | Gross.Profit | Research.Development | Selling.General.and.Administrative | Non.Recurring | Others | Total.Operating.Expenses | ... | Investments | Other.Cash.flows.from.Investing.Activities | Total.Cash.Flows.From.Investing.Activities | Dividends.Paid | Sale.Purchase.of.Stock | Net.Borrowings | Other.Cash.Flows.from.Financing.Activities | Total.Cash.Flows.From.Financing.Activities | Effect.Of.Exchange.Rate.Changes | Change.In.Cash.and.Cash.Equivalents |\n",
       "|---|---|---|---|---|---|---|---|---|---|---|---|---|---|---|---|---|---|---|---|---|\n",
       "| UN        | 2018      | 50982000  | 28769000  | 22213000  |  900000   |  8803000  | NA        | 41427000  | 38472000  | ...       |    47000  | 264000    |  4644000  | -4066000  | NA        |  -35000   | -1170000  | -11548000 |   72000   |  -79000   |\n",
       "| UN        | 2017      | 53715000  | 30547000  | 23168000  |  900000   | 13507000  | NA        | 44031000  | 44954000  | ...       |  -215000  | 292000    | -5879000  | -3916000  | NA        | 8928000   | -1227000  |  -1433000 |   -9000   |  -29000   |\n",
       "| UN        | 2016      | 52713000  | 30229000  | 22484000  |  978000   | 13799000  | NA        | 44031000  | 45006000  | ...       |   100000  | 291000    | -3188000  | -3609000  | NA        | 1771000   |  -978000  |  -3073000 |  284000   | 1070000   |\n",
       "| UN        | 2015      | 53272000  | 30808000  | 22464000  | 1005000   | 14065000  | NA        | 44031000  | 45878000  | ...       |   -62000  | 295000    | -3539000  | -3331000  | NA        | 1527000   |  -952000  |  -3032000 | -541000   |  218000   |\n",
       "| IBM       | 2018      | 79591000  | 42655000  | 36936000  | 5379000   | 20325000  | NA        |  -998000  | 67361000  | ...       |  -554000  |  -1000    | -4913000  | -5666000  | NA        | -301000   |   112000  | -10469000 | -495000   | -630000   |\n",
       "| IBM       | 2017      | 79139000  | 42196000  | 36943000  | 5590000   | 20900000  | NA        | -1445000  | 67241000  | ...       | -1039000  |  -1000    | -7081000  | -5506000  | NA        | 3447000   |   174000  |  -6418000 |  937000   | 4161000   |\n",
       "\n"
      ],
      "text/plain": [
       "  symbol year Total.Revenue Cost.of.Revenue Gross.Profit Research.Development\n",
       "1 UN     2018 50982000      28769000        22213000      900000             \n",
       "2 UN     2017 53715000      30547000        23168000      900000             \n",
       "3 UN     2016 52713000      30229000        22484000      978000             \n",
       "4 UN     2015 53272000      30808000        22464000     1005000             \n",
       "5 IBM    2018 79591000      42655000        36936000     5379000             \n",
       "6 IBM    2017 79139000      42196000        36943000     5590000             \n",
       "  Selling.General.and.Administrative Non.Recurring Others  \n",
       "1  8803000                           NA            41427000\n",
       "2 13507000                           NA            44031000\n",
       "3 13799000                           NA            44031000\n",
       "4 14065000                           NA            44031000\n",
       "5 20325000                           NA             -998000\n",
       "6 20900000                           NA            -1445000\n",
       "  Total.Operating.Expenses ... Investments\n",
       "1 38472000                 ...    47000   \n",
       "2 44954000                 ...  -215000   \n",
       "3 45006000                 ...   100000   \n",
       "4 45878000                 ...   -62000   \n",
       "5 67361000                 ...  -554000   \n",
       "6 67241000                 ... -1039000   \n",
       "  Other.Cash.flows.from.Investing.Activities\n",
       "1 264000                                    \n",
       "2 292000                                    \n",
       "3 291000                                    \n",
       "4 295000                                    \n",
       "5  -1000                                    \n",
       "6  -1000                                    \n",
       "  Total.Cash.Flows.From.Investing.Activities Dividends.Paid\n",
       "1  4644000                                   -4066000      \n",
       "2 -5879000                                   -3916000      \n",
       "3 -3188000                                   -3609000      \n",
       "4 -3539000                                   -3331000      \n",
       "5 -4913000                                   -5666000      \n",
       "6 -7081000                                   -5506000      \n",
       "  Sale.Purchase.of.Stock Net.Borrowings\n",
       "1 NA                      -35000       \n",
       "2 NA                     8928000       \n",
       "3 NA                     1771000       \n",
       "4 NA                     1527000       \n",
       "5 NA                     -301000       \n",
       "6 NA                     3447000       \n",
       "  Other.Cash.Flows.from.Financing.Activities\n",
       "1 -1170000                                  \n",
       "2 -1227000                                  \n",
       "3  -978000                                  \n",
       "4  -952000                                  \n",
       "5   112000                                  \n",
       "6   174000                                  \n",
       "  Total.Cash.Flows.From.Financing.Activities Effect.Of.Exchange.Rate.Changes\n",
       "1 -11548000                                    72000                        \n",
       "2  -1433000                                    -9000                        \n",
       "3  -3073000                                   284000                        \n",
       "4  -3032000                                  -541000                        \n",
       "5 -10469000                                  -495000                        \n",
       "6  -6418000                                   937000                        \n",
       "  Change.In.Cash.and.Cash.Equivalents\n",
       "1  -79000                            \n",
       "2  -29000                            \n",
       "3 1070000                            \n",
       "4  218000                            \n",
       "5 -630000                            \n",
       "6 4161000                            "
      ]
     },
     "metadata": {},
     "output_type": "display_data"
    }
   ],
   "source": [
    "############# Combine and clean the data ###############\n",
    "\n",
    "ISBSCF <- rbind(IS, BS, CF)\n",
    "\n",
    "ISBSCF <- ISBSCF %>%\n",
    "  t() %>%\n",
    "  data.frame() %>%\n",
    "  rownames_to_column('rn') %>%\n",
    "  separate(rn, into = c(\"symbol\", \"year\"),\n",
    "           sep = -4, convert = TRUE)\n",
    "\n",
    "\n",
    "ISBSCF$symbol <- gsub(\"(f).*\", \"\", ISBSCF$symbol)\n",
    "ISBSCF$symbol <- gsub('.$', '', ISBSCF$symbol)\n",
    "ISBSCF$symbol <- gsub('^X', '', ISBSCF$symbol)\n",
    "\n",
    "head(ISBSCF)"
   ]
  },
  {
   "cell_type": "code",
   "execution_count": 8,
   "metadata": {},
   "outputs": [
    {
     "data": {
      "text/html": [
       "<table>\n",
       "<thead><tr><th scope=col>Ticker</th><th scope=col>Date</th><th scope=col>CollectionPeriod</th><th scope=col>DaysofInventory</th><th scope=col>DaysofPayable</th><th scope=col>CashCollectionCycle</th><th scope=col>DaysofPayableAccExp</th><th scope=col>CashCollectionCycleAccExp</th></tr></thead>\n",
       "<tbody>\n",
       "\t<tr><td>UN        </td><td>2018      </td><td>34.52258  </td><td>54.56794  </td><td>115.72057 </td><td>-26.630053</td><td>366.5732  </td><td>-277.4827 </td></tr>\n",
       "\t<tr><td>UN        </td><td>2017      </td><td>28.56669  </td><td>47.34115  </td><td> 98.18329 </td><td>-22.275450</td><td>375.1206  </td><td>-299.2128 </td></tr>\n",
       "\t<tr><td>UN        </td><td>2016      </td><td>26.68621  </td><td>51.65470  </td><td>103.73201 </td><td>-25.391103</td><td>351.9354  </td><td>-273.5945 </td></tr>\n",
       "\t<tr><td>UN        </td><td>2015      </td><td>23.40517  </td><td>51.35922  </td><td> 98.28746 </td><td>-23.523067</td><td>335.4640  </td><td>-260.6996 </td></tr>\n",
       "\t<tr><td>IBM       </td><td>2018      </td><td>39.42079  </td><td>14.39292  </td><td> 56.11699 </td><td> -2.303276</td><td>383.2265  </td><td>-329.4128 </td></tr>\n",
       "\t<tr><td>IBM       </td><td>2017      </td><td>47.87399  </td><td>13.69312  </td><td> 55.80185 </td><td>  5.765263</td><td>378.9959  </td><td>-317.4288 </td></tr>\n",
       "</tbody>\n",
       "</table>\n"
      ],
      "text/latex": [
       "\\begin{tabular}{r|llllllll}\n",
       " Ticker & Date & CollectionPeriod & DaysofInventory & DaysofPayable & CashCollectionCycle & DaysofPayableAccExp & CashCollectionCycleAccExp\\\\\n",
       "\\hline\n",
       "\t UN         & 2018       & 34.52258   & 54.56794   & 115.72057  & -26.630053 & 366.5732   & -277.4827 \\\\\n",
       "\t UN         & 2017       & 28.56669   & 47.34115   &  98.18329  & -22.275450 & 375.1206   & -299.2128 \\\\\n",
       "\t UN         & 2016       & 26.68621   & 51.65470   & 103.73201  & -25.391103 & 351.9354   & -273.5945 \\\\\n",
       "\t UN         & 2015       & 23.40517   & 51.35922   &  98.28746  & -23.523067 & 335.4640   & -260.6996 \\\\\n",
       "\t IBM        & 2018       & 39.42079   & 14.39292   &  56.11699  &  -2.303276 & 383.2265   & -329.4128 \\\\\n",
       "\t IBM        & 2017       & 47.87399   & 13.69312   &  55.80185  &   5.765263 & 378.9959   & -317.4288 \\\\\n",
       "\\end{tabular}\n"
      ],
      "text/markdown": [
       "\n",
       "| Ticker | Date | CollectionPeriod | DaysofInventory | DaysofPayable | CashCollectionCycle | DaysofPayableAccExp | CashCollectionCycleAccExp |\n",
       "|---|---|---|---|---|---|---|---|\n",
       "| UN         | 2018       | 34.52258   | 54.56794   | 115.72057  | -26.630053 | 366.5732   | -277.4827  |\n",
       "| UN         | 2017       | 28.56669   | 47.34115   |  98.18329  | -22.275450 | 375.1206   | -299.2128  |\n",
       "| UN         | 2016       | 26.68621   | 51.65470   | 103.73201  | -25.391103 | 351.9354   | -273.5945  |\n",
       "| UN         | 2015       | 23.40517   | 51.35922   |  98.28746  | -23.523067 | 335.4640   | -260.6996  |\n",
       "| IBM        | 2018       | 39.42079   | 14.39292   |  56.11699  |  -2.303276 | 383.2265   | -329.4128  |\n",
       "| IBM        | 2017       | 47.87399   | 13.69312   |  55.80185  |   5.765263 | 378.9959   | -317.4288  |\n",
       "\n"
      ],
      "text/plain": [
       "  Ticker Date CollectionPeriod DaysofInventory DaysofPayable\n",
       "1 UN     2018 34.52258         54.56794        115.72057    \n",
       "2 UN     2017 28.56669         47.34115         98.18329    \n",
       "3 UN     2016 26.68621         51.65470        103.73201    \n",
       "4 UN     2015 23.40517         51.35922         98.28746    \n",
       "5 IBM    2018 39.42079         14.39292         56.11699    \n",
       "6 IBM    2017 47.87399         13.69312         55.80185    \n",
       "  CashCollectionCycle DaysofPayableAccExp CashCollectionCycleAccExp\n",
       "1 -26.630053          366.5732            -277.4827                \n",
       "2 -22.275450          375.1206            -299.2128                \n",
       "3 -25.391103          351.9354            -273.5945                \n",
       "4 -23.523067          335.4640            -260.6996                \n",
       "5  -2.303276          383.2265            -329.4128                \n",
       "6   5.765263          378.9959            -317.4288                "
      ]
     },
     "metadata": {},
     "output_type": "display_data"
    }
   ],
   "source": [
    "########## Create the Cash Cycle Calculations #############\n",
    "\n",
    "#Set CashCycle data.frame up\n",
    "CashCycle <- data.frame(matrix(\"\", nrow = nrow(ISBSCF)))\n",
    "CashCycle[,1] <- NULL\n",
    "CashCycle$Ticker <- ISBSCF$symbol\n",
    "CashCycle$Date <- ISBSCF$year\n",
    "\n",
    "#CashCycle excluding accured expense Calculations\n",
    "CashCycle$CollectionPeriod <- (ISBSCF$Net.Receivables / ISBSCF$Total.Revenue) * 365\n",
    "CashCycle$DaysofInventory <- (ISBSCF$Inventory / ISBSCF$Cost.of.Revenue) * 365\n",
    "CashCycle$DaysofPayable <- (ISBSCF$Accounts.Payable / ISBSCF$Cost.of.Revenue) * 365\n",
    "CashCycle$CashCollectionCycle <- CashCycle$CollectionPeriod + CashCycle$DaysofInventory - CashCycle$DaysofPayable\n",
    "#CashCycle including accured expense Calculations\n",
    "CashCycle$DaysofPayableAccExp <- ((ISBSCF$Accounts.Payable + ISBSCF$Total.Current.Liabilities) / ISBSCF$Cost.of.Revenue) * 365\n",
    "CashCycle$CashCollectionCycleAccExp <- CashCycle$CollectionPeriod + CashCycle$DaysofInventory - CashCycle$DaysofPayableAccExp\n",
    "\n",
    "CashCycle <- CashCycle[Reduce(`&`, lapply(CashCycle, function(x) !is.nan(x)  & !is.infinite(x))),]\n",
    "\n",
    "head(CashCycle)"
   ]
  },
  {
   "cell_type": "code",
   "execution_count": 9,
   "metadata": {},
   "outputs": [
    {
     "data": {
      "text/html": [
       "<table>\n",
       "<thead><tr><th scope=col>Ticker</th><th scope=col>Date</th><th scope=col>ROE</th><th scope=col>ROS</th><th scope=col>Turnover</th><th scope=col>Leverage</th></tr></thead>\n",
       "<tbody>\n",
       "\t<tr><td>UN        </td><td>2018      </td><td>0.8113550 </td><td>0.18416304</td><td>0.8574744 </td><td>5.137919  </td></tr>\n",
       "\t<tr><td>UN        </td><td>2017      </td><td>0.4441265 </td><td>0.11268733</td><td>0.8910177 </td><td>4.423289  </td></tr>\n",
       "\t<tr><td>UN        </td><td>2016      </td><td>0.3169867 </td><td>0.09834386</td><td>0.9341473 </td><td>3.450471  </td></tr>\n",
       "\t<tr><td>UN        </td><td>2015      </td><td>0.3179610 </td><td>0.09214972</td><td>1.0186240 </td><td>3.387396  </td></tr>\n",
       "\t<tr><td>IBM       </td><td>2018      </td><td>0.5196475 </td><td>0.10966064</td><td>0.6450779 </td><td>7.345916  </td></tr>\n",
       "\t<tr><td>IBM       </td><td>2017      </td><td>0.3269865 </td><td>0.07269488</td><td>0.6313140 </td><td>7.124929  </td></tr>\n",
       "</tbody>\n",
       "</table>\n"
      ],
      "text/latex": [
       "\\begin{tabular}{r|llllll}\n",
       " Ticker & Date & ROE & ROS & Turnover & Leverage\\\\\n",
       "\\hline\n",
       "\t UN         & 2018       & 0.8113550  & 0.18416304 & 0.8574744  & 5.137919  \\\\\n",
       "\t UN         & 2017       & 0.4441265  & 0.11268733 & 0.8910177  & 4.423289  \\\\\n",
       "\t UN         & 2016       & 0.3169867  & 0.09834386 & 0.9341473  & 3.450471  \\\\\n",
       "\t UN         & 2015       & 0.3179610  & 0.09214972 & 1.0186240  & 3.387396  \\\\\n",
       "\t IBM        & 2018       & 0.5196475  & 0.10966064 & 0.6450779  & 7.345916  \\\\\n",
       "\t IBM        & 2017       & 0.3269865  & 0.07269488 & 0.6313140  & 7.124929  \\\\\n",
       "\\end{tabular}\n"
      ],
      "text/markdown": [
       "\n",
       "| Ticker | Date | ROE | ROS | Turnover | Leverage |\n",
       "|---|---|---|---|---|---|\n",
       "| UN         | 2018       | 0.8113550  | 0.18416304 | 0.8574744  | 5.137919   |\n",
       "| UN         | 2017       | 0.4441265  | 0.11268733 | 0.8910177  | 4.423289   |\n",
       "| UN         | 2016       | 0.3169867  | 0.09834386 | 0.9341473  | 3.450471   |\n",
       "| UN         | 2015       | 0.3179610  | 0.09214972 | 1.0186240  | 3.387396   |\n",
       "| IBM        | 2018       | 0.5196475  | 0.10966064 | 0.6450779  | 7.345916   |\n",
       "| IBM        | 2017       | 0.3269865  | 0.07269488 | 0.6313140  | 7.124929   |\n",
       "\n"
      ],
      "text/plain": [
       "  Ticker Date ROE       ROS        Turnover  Leverage\n",
       "1 UN     2018 0.8113550 0.18416304 0.8574744 5.137919\n",
       "2 UN     2017 0.4441265 0.11268733 0.8910177 4.423289\n",
       "3 UN     2016 0.3169867 0.09834386 0.9341473 3.450471\n",
       "4 UN     2015 0.3179610 0.09214972 1.0186240 3.387396\n",
       "5 IBM    2018 0.5196475 0.10966064 0.6450779 7.345916\n",
       "6 IBM    2017 0.3269865 0.07269488 0.6313140 7.124929"
      ]
     },
     "metadata": {},
     "output_type": "display_data"
    }
   ],
   "source": [
    "########## Create the DuPont Calculations #############\n",
    "\n",
    "#DuPont Analysis\n",
    "#Set CashCycle data.frame up\n",
    "DuPontAnalysis <- data.frame(matrix(\"\", nrow = nrow(ISBSCF)))\n",
    "DuPontAnalysis[,1] <- NULL\n",
    "DuPontAnalysis$Ticker <- ISBSCF$symbol\n",
    "DuPontAnalysis$Date <- ISBSCF$year\n",
    "#DuPont Analysis Calculations\n",
    "DuPontAnalysis$ROE <- ISBSCF$Net.Income / ISBSCF$Total.stockholders..equity\n",
    "DuPontAnalysis$ROS <- ISBSCF$Net.Income / ISBSCF$Total.Revenue\n",
    "DuPontAnalysis$Turnover <- ISBSCF$Total.Revenue / ISBSCF$Total.Assets\n",
    "DuPontAnalysis$Leverage <- ISBSCF$Total.Assets / ISBSCF$Total.stockholders..equity\n",
    "\n",
    "DuPontAnalysis <- DuPontAnalysis[Reduce(`&`, lapply(DuPontAnalysis, function(x) !is.nan(x)  & !is.infinite(x))),]\n",
    "\n",
    "head(DuPontAnalysis)"
   ]
  },
  {
   "cell_type": "code",
   "execution_count": 11,
   "metadata": {},
   "outputs": [
    {
     "data": {
      "text/html": [
       "<table>\n",
       "<thead><tr><th scope=col>Ticker</th><th scope=col>Date</th><th scope=col>REC</th><th scope=col>INV</th><th scope=col>OtherCurrentAssetsNotCash</th><th scope=col>Payables</th><th scope=col>SpontaneousFunsIncDeftaxes</th><th scope=col>NFO</th><th scope=col>LTD</th><th scope=col>EQ</th><th scope=col>OtherLongTermLiabilities</th><th scope=col>FA</th><th scope=col>WC</th><th scope=col>CreditPlusCashMinus</th></tr></thead>\n",
       "<tbody>\n",
       "\t<tr><td>UN       </td><td>2018     </td><td> 4822000 </td><td>4301000  </td><td>1387000  </td><td>9121000  </td><td>25541000 </td><td>-24152000</td><td>21535000 </td><td>11572000 </td><td> 6462000 </td><td>43975000 </td><td>-4406000 </td><td>-19746000</td></tr>\n",
       "\t<tr><td>UN       </td><td>2017     </td><td> 4204000 </td><td>3962000  </td><td>4356000  </td><td>8217000  </td><td>27631000 </td><td>-23326000</td><td>16342000 </td><td>13629000 </td><td> 7017000 </td><td>43302000 </td><td>-6314000 </td><td>-17012000</td></tr>\n",
       "\t<tr><td>UN       </td><td>2016     </td><td> 3854000 </td><td>4278000  </td><td>1120000  </td><td>8591000  </td><td>24870000 </td><td>-24209000</td><td>11011000 </td><td>16354000 </td><td> 8374000 </td><td>42545000 </td><td>-6806000 </td><td>-17403000</td></tr>\n",
       "\t<tr><td>UN       </td><td>2015     </td><td> 3416000 </td><td>4335000  </td><td>1352000  </td><td>8296000  </td><td>24739000 </td><td>-23932000</td><td> 9696000 </td><td>15439000 </td><td> 6986000 </td><td>39612000 </td><td>-7491000 </td><td>-16441000</td></tr>\n",
       "\t<tr><td>IBM      </td><td>2018     </td><td> 8596000 </td><td>1682000  </td><td>2902000  </td><td>6558000  </td><td>55526000 </td><td>-48904000</td><td>35681000 </td><td>16796000 </td><td>32678000 </td><td>74236000 </td><td>10919000 </td><td>-59823000</td></tr>\n",
       "\t<tr><td>IBM      </td><td>2017     </td><td>10380000 </td><td>1583000  </td><td>2266000  </td><td>6451000  </td><td>59456000 </td><td>-51678000</td><td>39871000 </td><td>17594000 </td><td>30528000 </td><td>75621000 </td><td>12372000 </td><td>-64050000</td></tr>\n",
       "</tbody>\n",
       "</table>\n"
      ],
      "text/latex": [
       "\\begin{tabular}{r|llllllllllllll}\n",
       " Ticker & Date & REC & INV & OtherCurrentAssetsNotCash & Payables & SpontaneousFunsIncDeftaxes & NFO & LTD & EQ & OtherLongTermLiabilities & FA & WC & CreditPlusCashMinus\\\\\n",
       "\\hline\n",
       "\t UN        & 2018      &  4822000  & 4301000   & 1387000   & 9121000   & 25541000  & -24152000 & 21535000  & 11572000  &  6462000  & 43975000  & -4406000  & -19746000\\\\\n",
       "\t UN        & 2017      &  4204000  & 3962000   & 4356000   & 8217000   & 27631000  & -23326000 & 16342000  & 13629000  &  7017000  & 43302000  & -6314000  & -17012000\\\\\n",
       "\t UN        & 2016      &  3854000  & 4278000   & 1120000   & 8591000   & 24870000  & -24209000 & 11011000  & 16354000  &  8374000  & 42545000  & -6806000  & -17403000\\\\\n",
       "\t UN        & 2015      &  3416000  & 4335000   & 1352000   & 8296000   & 24739000  & -23932000 &  9696000  & 15439000  &  6986000  & 39612000  & -7491000  & -16441000\\\\\n",
       "\t IBM       & 2018      &  8596000  & 1682000   & 2902000   & 6558000   & 55526000  & -48904000 & 35681000  & 16796000  & 32678000  & 74236000  & 10919000  & -59823000\\\\\n",
       "\t IBM       & 2017      & 10380000  & 1583000   & 2266000   & 6451000   & 59456000  & -51678000 & 39871000  & 17594000  & 30528000  & 75621000  & 12372000  & -64050000\\\\\n",
       "\\end{tabular}\n"
      ],
      "text/markdown": [
       "\n",
       "| Ticker | Date | REC | INV | OtherCurrentAssetsNotCash | Payables | SpontaneousFunsIncDeftaxes | NFO | LTD | EQ | OtherLongTermLiabilities | FA | WC | CreditPlusCashMinus |\n",
       "|---|---|---|---|---|---|---|---|---|---|---|---|---|---|\n",
       "| UN        | 2018      |  4822000  | 4301000   | 1387000   | 9121000   | 25541000  | -24152000 | 21535000  | 11572000  |  6462000  | 43975000  | -4406000  | -19746000 |\n",
       "| UN        | 2017      |  4204000  | 3962000   | 4356000   | 8217000   | 27631000  | -23326000 | 16342000  | 13629000  |  7017000  | 43302000  | -6314000  | -17012000 |\n",
       "| UN        | 2016      |  3854000  | 4278000   | 1120000   | 8591000   | 24870000  | -24209000 | 11011000  | 16354000  |  8374000  | 42545000  | -6806000  | -17403000 |\n",
       "| UN        | 2015      |  3416000  | 4335000   | 1352000   | 8296000   | 24739000  | -23932000 |  9696000  | 15439000  |  6986000  | 39612000  | -7491000  | -16441000 |\n",
       "| IBM       | 2018      |  8596000  | 1682000   | 2902000   | 6558000   | 55526000  | -48904000 | 35681000  | 16796000  | 32678000  | 74236000  | 10919000  | -59823000 |\n",
       "| IBM       | 2017      | 10380000  | 1583000   | 2266000   | 6451000   | 59456000  | -51678000 | 39871000  | 17594000  | 30528000  | 75621000  | 12372000  | -64050000 |\n",
       "\n"
      ],
      "text/plain": [
       "  Ticker Date REC      INV     OtherCurrentAssetsNotCash Payables\n",
       "1 UN     2018  4822000 4301000 1387000                   9121000 \n",
       "2 UN     2017  4204000 3962000 4356000                   8217000 \n",
       "3 UN     2016  3854000 4278000 1120000                   8591000 \n",
       "4 UN     2015  3416000 4335000 1352000                   8296000 \n",
       "5 IBM    2018  8596000 1682000 2902000                   6558000 \n",
       "6 IBM    2017 10380000 1583000 2266000                   6451000 \n",
       "  SpontaneousFunsIncDeftaxes NFO       LTD      EQ      \n",
       "1 25541000                   -24152000 21535000 11572000\n",
       "2 27631000                   -23326000 16342000 13629000\n",
       "3 24870000                   -24209000 11011000 16354000\n",
       "4 24739000                   -23932000  9696000 15439000\n",
       "5 55526000                   -48904000 35681000 16796000\n",
       "6 59456000                   -51678000 39871000 17594000\n",
       "  OtherLongTermLiabilities FA       WC       CreditPlusCashMinus\n",
       "1  6462000                 43975000 -4406000 -19746000          \n",
       "2  7017000                 43302000 -6314000 -17012000          \n",
       "3  8374000                 42545000 -6806000 -17403000          \n",
       "4  6986000                 39612000 -7491000 -16441000          \n",
       "5 32678000                 74236000 10919000 -59823000          \n",
       "6 30528000                 75621000 12372000 -64050000          "
      ]
     },
     "metadata": {},
     "output_type": "display_data"
    }
   ],
   "source": [
    "########## Create the NFO & WC Calculations #############\n",
    "\n",
    "#NFO-WC Analysis\n",
    "NFO_WCAnalysis <- data.frame(matrix(\"\", nrow = nrow(ISBSCF)))\n",
    "NFO_WCAnalysis[,1] <- NULL\n",
    "NFO_WCAnalysis$Ticker <- ISBSCF$symbol\n",
    "NFO_WCAnalysis$Date <- ISBSCF$year\n",
    "#NFO_WC Analysis Calculations\n",
    "NFO_WCAnalysis$REC <- ISBSCF$Net.Receivables\n",
    "NFO_WCAnalysis$INV <- ISBSCF$Inventory\n",
    "NFO_WCAnalysis$OtherCurrentAssetsNotCash <- ISBSCF$Other.Current.Assets\n",
    "NFO_WCAnalysis$Payables <- ISBSCF$Accounts.Payable\n",
    "NFO_WCAnalysis$SpontaneousFunsIncDeftaxes <- ISBSCF$Total.Current.Liabilities + ISBSCF$Other.Current.Liabilities + ISBSCF$Income.Tax.Expense\n",
    "\n",
    "####\n",
    "NFO_WCAnalysis$NFO <- NFO_WCAnalysis$REC + NFO_WCAnalysis$INV + NFO_WCAnalysis$OtherCurrentAssetsNotCash - NFO_WCAnalysis$Payables - NFO_WCAnalysis$SpontaneousFunsIncDeftaxes\n",
    "NFO_WCAnalysis$LTD <- ISBSCF$Long.Term.Debt\n",
    "NFO_WCAnalysis$EQ <- ISBSCF$Total.stockholders..equity\n",
    "NFO_WCAnalysis$OtherLongTermLiabilities <- ISBSCF$Minority.Interest + ISBSCF$Other.Liabilities\n",
    "NFO_WCAnalysis$FA <- ISBSCF$Total.Assets - ISBSCF$Total.Current.Assets\n",
    "\n",
    "###\n",
    "NFO_WCAnalysis$WC <- NFO_WCAnalysis$LTD + NFO_WCAnalysis$EQ + NFO_WCAnalysis$OtherLongTermLiabilities - NFO_WCAnalysis$FA\n",
    "NFO_WCAnalysis$CreditPlusCashMinus <- NFO_WCAnalysis$NFO - NFO_WCAnalysis$WC\n",
    "\n",
    "NFO_WCAnalysis <- NFO_WCAnalysis[Reduce(`&`, lapply(NFO_WCAnalysis, function(x) !is.nan(x)  & !is.infinite(x))),]\n",
    "\n",
    "head(NFO_WCAnalysis)"
   ]
  },
  {
   "cell_type": "code",
   "execution_count": 13,
   "metadata": {},
   "outputs": [
    {
     "data": {
      "text/plain": [
       "$UN\n"
      ]
     },
     "metadata": {},
     "output_type": "display_data"
    },
    {
     "data": {
      "text/plain": [
       "$IBM\n"
      ]
     },
     "metadata": {},
     "output_type": "display_data"
    },
    {
     "data": {
      "image/png": "[encoded data removed]",
      "text/plain": [
       "plot without title"
      ]
     },
     "metadata": {},
     "output_type": "display_data"
    },
    {
     "data": {
      "text/plain": [
       "$GE\n"
      ]
     },
     "metadata": {},
     "output_type": "display_data"
    },
    {
     "data": {
      "image/png": "[encoded data removed]",
      "text/plain": [
       "plot without title"
      ]
     },
     "metadata": {},
     "output_type": "display_data"
    },
    {
     "data": {
      "text/plain": [
       "$F\n"
      ]
     },
     "metadata": {},
     "output_type": "display_data"
    },
    {
     "data": {
      "image/png": "[encoded data removed]",
      "text/plain": [
       "plot without title"
      ]
     },
     "metadata": {},
     "output_type": "display_data"
    },
    {
     "data": {
      "image/png": "[encoded data removed]",
      "text/plain": [
       "plot without title"
      ]
     },
     "metadata": {},
     "output_type": "display_data"
    }
   ],
   "source": [
    "########## Plot the NFO & WC #############\n",
    "\n",
    "symbol <- NULL\n",
    "symbols <- unique(NFO_WCAnalysis$Ticker)\n",
    "\n",
    "# Create the plots for NFO and WC for all symbols\n",
    "plotList <- list()\n",
    "for(symbol in symbols){\n",
    "  plotList[[symbol]] <- ggplot(subset(NFO_WCAnalysis, Ticker %in% symbol)) +\n",
    "    geom_line(aes(Date, NFO, group = Ticker, colour = \"Blue\")) +\n",
    "    geom_line(aes(Date, WC, group = Ticker, colour = \"Red\")) +\n",
    "    labs(title=paste0(\"NFO and WC plot \", symbol), x=\"Year\", y=\"NFO / WC\") +\n",
    "    scale_color_manual(labels = c(\"NFO\", \"WC\"), values = c(\"Blue\", \"Red\")) +\n",
    "    guides(color=guide_legend(\"Legend\")) +\n",
    "    theme_tq() +\n",
    "    theme(legend.position = \"right\")\n",
    "}\n",
    "\n",
    "\n",
    "# Change the symbols to view the NFO WC plots\n",
    "plotList[1]\n",
    "plotList[2]\n",
    "plotList[3]\n",
    "plotList[4]\n",
    "\n",
    "# Print the results to a PDF document\n",
    "#pdf(\"PlotsNFO_WC.pdf\", onefile = TRUE, paper = \"USr\") #Uncomment this if you want to save to .pdf\n",
    "#plotList\n",
    "#dev.off()"
   ]
  },
  {
   "cell_type": "code",
   "execution_count": 15,
   "metadata": {},
   "outputs": [
    {
     "data": {
      "text/html": [
       "<table>\n",
       "<thead><tr><th scope=col>Ticker</th><th scope=col>Date</th><th scope=col>variable</th><th scope=col>value</th></tr></thead>\n",
       "<tbody>\n",
       "\t<tr><td>UN              </td><td>2018            </td><td>CollectionPeriod</td><td>34.52258        </td></tr>\n",
       "\t<tr><td>UN              </td><td>2017            </td><td>CollectionPeriod</td><td>28.56669        </td></tr>\n",
       "\t<tr><td>UN              </td><td>2016            </td><td>CollectionPeriod</td><td>26.68621        </td></tr>\n",
       "\t<tr><td>UN              </td><td>2015            </td><td>CollectionPeriod</td><td>23.40517        </td></tr>\n",
       "\t<tr><td>IBM             </td><td>2018            </td><td>CollectionPeriod</td><td>39.42079        </td></tr>\n",
       "\t<tr><td>IBM             </td><td>2017            </td><td>CollectionPeriod</td><td>47.87399        </td></tr>\n",
       "</tbody>\n",
       "</table>\n"
      ],
      "text/latex": [
       "\\begin{tabular}{r|llll}\n",
       " Ticker & Date & variable & value\\\\\n",
       "\\hline\n",
       "\t UN               & 2018             & CollectionPeriod & 34.52258        \\\\\n",
       "\t UN               & 2017             & CollectionPeriod & 28.56669        \\\\\n",
       "\t UN               & 2016             & CollectionPeriod & 26.68621        \\\\\n",
       "\t UN               & 2015             & CollectionPeriod & 23.40517        \\\\\n",
       "\t IBM              & 2018             & CollectionPeriod & 39.42079        \\\\\n",
       "\t IBM              & 2017             & CollectionPeriod & 47.87399        \\\\\n",
       "\\end{tabular}\n"
      ],
      "text/markdown": [
       "\n",
       "| Ticker | Date | variable | value |\n",
       "|---|---|---|---|\n",
       "| UN               | 2018             | CollectionPeriod | 34.52258         |\n",
       "| UN               | 2017             | CollectionPeriod | 28.56669         |\n",
       "| UN               | 2016             | CollectionPeriod | 26.68621         |\n",
       "| UN               | 2015             | CollectionPeriod | 23.40517         |\n",
       "| IBM              | 2018             | CollectionPeriod | 39.42079         |\n",
       "| IBM              | 2017             | CollectionPeriod | 47.87399         |\n",
       "\n"
      ],
      "text/plain": [
       "  Ticker Date variable         value   \n",
       "1 UN     2018 CollectionPeriod 34.52258\n",
       "2 UN     2017 CollectionPeriod 28.56669\n",
       "3 UN     2016 CollectionPeriod 26.68621\n",
       "4 UN     2015 CollectionPeriod 23.40517\n",
       "5 IBM    2018 CollectionPeriod 39.42079\n",
       "6 IBM    2017 CollectionPeriod 47.87399"
      ]
     },
     "metadata": {},
     "output_type": "display_data"
    }
   ],
   "source": [
    "########## Collection Period, Days of Inventory and Days of Payable #############\n",
    "# Create the plots for Collection Period, Days of Inventory and Days of Payable\n",
    "\n",
    "mm <- melt(CashCycle, id = c('Ticker', 'Date'))\n",
    "mm <- mm[mm$variable == \"CollectionPeriod\" | mm$variable == \"DaysofInventory\" | mm$variable == \"DaysofPayable\",]\n",
    "mm$value <- with(mm, ifelse(variable == \"DaysofPayable\", -value, value))\n",
    "\n",
    "head(mm)"
   ]
  },
  {
   "cell_type": "code",
   "execution_count": 16,
   "metadata": {},
   "outputs": [
    {
     "data": {
      "text/plain": [
       "$UN\n"
      ]
     },
     "metadata": {},
     "output_type": "display_data"
    },
    {
     "data": {
      "text/plain": [
       "$IBM\n"
      ]
     },
     "metadata": {},
     "output_type": "display_data"
    },
    {
     "data": {
      "image/png": "[encoded data removed]",
      "text/plain": [
       "plot without title"
      ]
     },
     "metadata": {},
     "output_type": "display_data"
    },
    {
     "data": {
      "text/plain": [
       "$GE\n"
      ]
     },
     "metadata": {},
     "output_type": "display_data"
    },
    {
     "data": {
      "image/png": "[encoded data removed]",
      "text/plain": [
       "plot without title"
      ]
     },
     "metadata": {},
     "output_type": "display_data"
    },
    {
     "data": {
      "text/plain": [
       "$F\n"
      ]
     },
     "metadata": {},
     "output_type": "display_data"
    },
    {
     "data": {
      "image/png": "[encoded data removed]",
      "text/plain": [
       "plot without title"
      ]
     },
     "metadata": {},
     "output_type": "display_data"
    },
    {
     "data": {
      "image/png": "[encoded data removed]",
      "text/plain": [
       "plot without title"
      ]
     },
     "metadata": {},
     "output_type": "display_data"
    }
   ],
   "source": [
    "########## Plot the Collection Period, Days of Inventory and Days of Payable #############\n",
    "\n",
    "symbol <- NULL\n",
    "symbols <- unique(mm$Ticker)\n",
    "\n",
    "plotListBar <- list()\n",
    "for(symbol in symbols){\n",
    "  plotListBar[[symbol]] <- ggplot(mm[mm$Ticker == symbol,], aes(Date, value,  fill = variable)) + facet_wrap(~ Ticker) +\n",
    "    geom_bar(stat=\"identity\", position = \"dodge\") +\n",
    "    theme_tq() +\n",
    "    theme(legend.position = \"right\")\n",
    "}\n",
    "\n",
    "plotListBar[1]\n",
    "plotListBar[2]\n",
    "plotListBar[3]\n",
    "plotListBar[4]\n",
    "\n",
    "# Print the results to a PDF document\n",
    "#pdf(\"Plots_OperationalRatios.pdf\", onefile = TRUE, paper = \"USr\") #Uncomment if you want to save to .pdf\n",
    "#plotListBar\n",
    "#dev.off()"
   ]
  },
  {
   "cell_type": "code",
   "execution_count": null,
   "metadata": {},
   "outputs": [],
   "source": [
    "# library(openxlsx)\n",
    "# if(devtools::find_rtools()) Sys.setenv(R_ZIPCMD= file.path(devtools:::get_rtools_path(),\"zip\"))\n",
    "# write.xlsx(CashCycle, 'CashCycle.xlsx')\n",
    "# write.xlsx(DuPontAnalysis, 'DuPontAnalysis.xlsx')\n",
    "# write.xlsx(NFO_WCAnalysis, 'NFO_WCAnalysis.xlsx')\n",
    "# write.xlsx(df, 'FinancialsAllCompanies.xlsx')"
   ]
  }
 ],
 "metadata": {
  "kernelspec": {
   "display_name": "R",
   "language": "R",
   "name": "ir"
  },
  "language_info": {
   "codemirror_mode": "r",
   "file_extension": ".r",
   "mimetype": "text/x-r-source",
   "name": "R",
   "pygments_lexer": "r",
   "version": "3.6.1"
  }
 },
 "nbformat": 4,
 "nbformat_minor": 2
}
